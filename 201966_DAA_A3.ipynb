{
  "nbformat": 4,
  "nbformat_minor": 0,
  "metadata": {
    "colab": {
      "provenance": []
    },
    "kernelspec": {
      "name": "python3",
      "display_name": "Python 3"
    },
    "language_info": {
      "name": "python"
    }
  },
  "cells": [
    {
      "cell_type": "markdown",
      "source": [
        "#Depth First Search"
      ],
      "metadata": {
        "id": "CseMgxYadU5D"
      }
    },
    {
      "cell_type": "code",
      "execution_count": 3,
      "metadata": {
        "colab": {
          "base_uri": "https://localhost:8080/"
        },
        "id": "7nzIQwqAdBhQ",
        "outputId": "2b01b34a-22e0-4216-ca16-f0a7ceb64084"
      },
      "outputs": [
        {
          "output_type": "stream",
          "name": "stdout",
          "text": [
            "DFS Traversal:\n",
            "A\n",
            "C\n",
            "F\n",
            "E\n",
            "B\n",
            "D\n",
            "B\n",
            "\n",
            "Time Complexity: O(18)\n"
          ]
        }
      ],
      "source": [
        "def dfs(graph, start, visited=None):\n",
        "    if visited is None:\n",
        "        visited = set()\n",
        "    visited.add(start)\n",
        "    print(start)\n",
        "    for neighbor in graph[start] - visited:\n",
        "        dfs(graph, neighbor, visited)\n",
        "    return visited\n",
        "\n",
        "# Example usage:\n",
        "graph = {\n",
        "    'A': {'B', 'C'},\n",
        "    'B': {'A', 'D', 'E'},\n",
        "    'C': {'A', 'F'},\n",
        "    'D': {'B'},\n",
        "    'E': {'B', 'F'},\n",
        "    'F': {'C', 'E'}\n",
        "}\n",
        "\n",
        "print(\"DFS Traversal:\")\n",
        "dfs(graph, 'A')\n",
        "\n",
        "# Calculate time complexity\n",
        "V = len(graph)  # number of vertices\n",
        "E = sum(len(edges) for edges in graph.values())  # sum of edges\n",
        "time_complexity = V + E\n",
        "print(\"\\nTime Complexity: O({})\".format(time_complexity))\n"
      ]
    },
    {
      "cell_type": "markdown",
      "source": [
        "#Breath First Search"
      ],
      "metadata": {
        "id": "_2s17D2KdkaP"
      }
    },
    {
      "cell_type": "code",
      "source": [
        "from collections import deque\n",
        "\n",
        "def bfs(graph, start):\n",
        "    visited = set()\n",
        "    queue = deque([start])\n",
        "    visited.add(start)\n",
        "    while queue:\n",
        "        vertex = queue.popleft()\n",
        "        print(vertex)\n",
        "        for neighbor in graph[vertex] - visited:\n",
        "            visited.add(neighbor)\n",
        "            queue.append(neighbor)\n",
        "\n",
        "# Example usage:\n",
        "graph = {\n",
        "    'A': {'B', 'C'},\n",
        "    'B': {'A', 'D', 'E'},\n",
        "    'C': {'A', 'F'},\n",
        "    'D': {'B'},\n",
        "    'E': {'B', 'F'},\n",
        "    'F': {'C', 'E'}\n",
        "}\n",
        "\n",
        "print(\"BFS Traversal:\")\n",
        "bfs(graph, 'A')\n",
        "\n",
        "# Calculate time complexity\n",
        "V = len(graph)  # number of vertices\n",
        "E = sum(len(edges) for edges in graph.values())  # sum of edges\n",
        "time_complexity = V + E\n",
        "print(\"\\nTime Complexity: O({})\".format(time_complexity))\n",
        "\n"
      ],
      "metadata": {
        "colab": {
          "base_uri": "https://localhost:8080/"
        },
        "id": "Xs9zKIXedrUu",
        "outputId": "76132071-b526-438c-d55a-4769c6898ae1"
      },
      "execution_count": 4,
      "outputs": [
        {
          "output_type": "stream",
          "name": "stdout",
          "text": [
            "BFS Traversal:\n",
            "A\n",
            "C\n",
            "B\n",
            "F\n",
            "D\n",
            "E\n",
            "\n",
            "Time Complexity: O(18)\n"
          ]
        }
      ]
    },
    {
      "cell_type": "markdown",
      "source": [
        "#Dijkstra's Algorithm"
      ],
      "metadata": {
        "id": "TEsBQ8AadyMJ"
      }
    },
    {
      "cell_type": "code",
      "source": [
        "import heapq\n",
        "\n",
        "def dijkstra(graph, start):\n",
        "    distances = {vertex: float('infinity') for vertex in graph}\n",
        "    distances[start] = 0\n",
        "    pq = [(0, start)]\n",
        "    while pq:\n",
        "        current_distance, current_vertex = heapq.heappop(pq)\n",
        "        if current_distance > distances[current_vertex]:\n",
        "            continue\n",
        "        for neighbor, weight in graph[current_vertex].items():\n",
        "            distance = current_distance + weight\n",
        "            if distance < distances[neighbor]:\n",
        "                distances[neighbor] = distance\n",
        "                heapq.heappush(pq, (distance, neighbor))\n",
        "    return distances\n",
        "\n",
        "# Example usage:\n",
        "graph = {\n",
        "    'A': {'B': 5, 'C': 2},\n",
        "    'B': {'A': 5, 'D': 3},\n",
        "    'C': {'A': 2, 'D': 6},\n",
        "    'D': {'B': 3, 'C': 6}\n",
        "}\n",
        "\n",
        "print(\"Dijkstra's Shortest Path:\")\n",
        "print(dijkstra(graph, 'A'))\n",
        "\n",
        "# Calculate time complexity\n",
        "V = len(graph)  # number of vertices\n",
        "E = sum(len(edges) for edges in graph.values())  # sum of edges\n",
        "time_complexity = V * (V + E)  # O(V^2 + VE)\n",
        "print(\"\\nTime Complexity: O({})\".format(time_complexity))\n",
        "\n"
      ],
      "metadata": {
        "colab": {
          "base_uri": "https://localhost:8080/"
        },
        "id": "7fGueCAXdt1J",
        "outputId": "3813695d-6152-424a-968d-b47515d2cbbd"
      },
      "execution_count": 6,
      "outputs": [
        {
          "output_type": "stream",
          "name": "stdout",
          "text": [
            "Dijkstra's Shortest Path:\n",
            "{'A': 0, 'B': 5, 'C': 2, 'D': 8}\n",
            "\n",
            "Time Complexity: O(48)\n"
          ]
        }
      ]
    },
    {
      "cell_type": "code",
      "source": [],
      "metadata": {
        "id": "8vf0lIrgd22v"
      },
      "execution_count": null,
      "outputs": []
    }
  ]
}